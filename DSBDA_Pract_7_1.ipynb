{
  "cells": [
    {
      "cell_type": "code",
      "execution_count": 1,
      "id": "01c98c73",
      "metadata": {
        "colab": {
          "base_uri": "https://localhost:8080/",
          "height": 0
        },
        "id": "01c98c73",
        "outputId": "54aac6e3-9351-4c13-9133-a23cd2f9dc09"
      },
      "outputs": [
        {
          "output_type": "stream",
          "name": "stdout",
          "text": [
            "[nltk_data] Downloading package punkt to /root/nltk_data...\n",
            "[nltk_data]   Unzipping tokenizers/punkt.zip.\n",
            "This is word wise tokenization-: \n",
            " ['CSI-DYPIEMR', 'is', 'the', 'Student', 'Chapter', 'of', 'Computer', 'Society', 'of', 'India', 'in', 'Dr.', 'D.', 'Y.', 'Patil', 'Pratishthan', \"'s\", 'Dr.', 'D.', 'Y.', 'Patil', 'Institute', 'of', 'Engineering', ',', 'Management', ',', 'and', 'Research', '.', 'Computer', 'Society', 'of', 'India', 'is', 'a', 'body', 'of', 'computer', 'professionals', 'in', 'India', '.', 'It', 'was', 'started', 'on', '6', 'March', '1965', 'by', 'a', 'few', 'computer', 'professionals', 'and', 'has', 'now', 'grown', 'to', 'be', 'the', 'national', 'body', 'representing', 'computer', 'professionals', '.', 'It', 'has', '72', 'chapters', 'across', 'India', ',', '511', 'student', 'branches', ',', 'and', '100,000', 'members', '.'] \n",
            "\n",
            "x-o-x-o-x-o-x-o-x-o-x-o-x-o-x-o-x-o-x-o-x-o-x-o-x-o-x-o-x-o-x-o-x-o-x-o-x-o-x-o-x-o-x-o-x-o-x-o-x-o-x-o-x-o-x-o-x \n",
            "\n",
            "This is sentence wise tokenization-: \n",
            " [\"CSI-DYPIEMR is the Student Chapter of Computer Society of India in Dr. D. Y. Patil Pratishthan's Dr. D. Y. Patil Institute of Engineering, Management, and Research.\", 'Computer Society of India is a body of computer professionals in India.', 'It was started on 6 March 1965 by a few computer professionals and has now grown to be the national body representing computer professionals.', 'It has 72 chapters across India, 511 student branches, and 100,000 members.']\n"
          ]
        }
      ],
      "source": [
        "#Dividing a block/body of text into words or sentences is known as tokenization\n",
        "\n",
        "import nltk\n",
        "nltk.download('punkt')\n",
        "\n",
        "block = \"CSI-DYPIEMR is the Student Chapter of Computer Society of India in Dr. D. Y. Patil Pratishthan's Dr. D. Y. Patil Institute of Engineering, Management, and Research. Computer Society of India is a body of computer professionals in India. It was started on 6 March 1965 by a few computer professionals and has now grown to be the national body representing computer professionals. It has 72 chapters across India, 511 student branches, and 100,000 members.\"\n",
        "\n",
        "print(\"This is word wise tokenization-:\",'\\n', nltk.word_tokenize(block), '\\n')\n",
        "\n",
        "print(\"x-o-x-o-x-o-x-o-x-o-x-o-x-o-x-o-x-o-x-o-x-o-x-o-x-o-x-o-x-o-x-o-x-o-x-o-x-o-x-o-x-o-x-o-x-o-x-o-x-o-x-o-x-o-x-o-x\", '\\n')\n",
        "\n",
        "print(\"This is sentence wise tokenization-:\",'\\n', nltk.sent_tokenize(block))"
      ]
    },
    {
      "cell_type": "code",
      "execution_count": 2,
      "id": "dff2fe6f",
      "metadata": {
        "id": "dff2fe6f"
      },
      "outputs": [],
      "source": [
        "# In the above example we have used two methods (word_tokenize & sent_tokenize) from the nltk library to demonstrate\n",
        "# word wise tokenization and sentence wise tokenization. The punkt module is downloaded to aid in the recognition of\n",
        "# punctuations."
      ]
    },
    {
      "cell_type": "code",
      "execution_count": 3,
      "id": "0f3c25be",
      "metadata": {
        "colab": {
          "base_uri": "https://localhost:8080/",
          "height": 0
        },
        "id": "0f3c25be",
        "outputId": "6c7e5e69-f2ce-4d2b-c6c9-9ca98bf8b592"
      },
      "outputs": [
        {
          "output_type": "stream",
          "name": "stdout",
          "text": [
            "[nltk_data] Downloading package stopwords to /root/nltk_data...\n",
            "[nltk_data]   Unzipping corpora/stopwords.zip.\n",
            "This is the unclean version-: \n",
            " ['CSI-DYPIEMR', 'is', 'the', 'Student', 'Chapter', 'of', 'Computer', 'Society', 'of', 'India', 'in', 'Dr.', 'D.', 'Y.', 'Patil', 'Pratishthan', \"'s\", 'Dr.', 'D.', 'Y.', 'Patil', 'Institute', 'of', 'Engineering', ',', 'Management', ',', 'and', 'Research', '.', 'Computer', 'Society', 'of', 'India', 'is', 'a', 'body', 'of', 'computer', 'professionals', 'in', 'India', '.', 'It', 'was', 'started', 'on', '6', 'March', '1965', 'by', 'a', 'few', 'computer', 'professionals', 'and', 'has', 'now', 'grown', 'to', 'be', 'the', 'national', 'body', 'representing', 'computer', 'professionals', '.', 'It', 'has', '72', 'chapters', 'across', 'India', ',', '511', 'student', 'branches', ',', 'and', '100,000', 'members', '.'] \n",
            "\n",
            "x-o-x-o-x-o-x-o-x-o-x-o-x-o-x-o-x-o-x-o-x-o-x-o-x-o-x-o-x-o-x-o-x-o-x-o-x-o-x-o-x-o-x-o-x-o-x-o-x-o-x-o-x-o-x-o-x \n",
            "\n",
            "This is the cleaned version-: \n",
            " ['CSI-DYPIEMR', 'Student', 'Chapter', 'Computer', 'Society', 'India', 'Dr.', 'D.', 'Y.', 'Patil', 'Pratishthan', \"'s\", 'Dr.', 'D.', 'Y.', 'Patil', 'Institute', 'Engineering', ',', 'Management', ',', 'Research', '.', 'Computer', 'Society', 'India', 'body', 'computer', 'professionals', 'India', '.', 'It', 'started', '6', 'March', '1965', 'computer', 'professionals', 'grown', 'national', 'body', 'representing', 'computer', 'professionals', '.', 'It', '72', 'chapters', 'across', 'India', ',', '511', 'student', 'branches', ',', '100,000', 'members', '.']\n"
          ]
        }
      ],
      "source": [
        "# Stopwords are those types of words that don't have much meaningful contribution in the sentence like \"a\", \"it's\",\n",
        "# \"is\", \"the\" etc. Presence of large amount of these types of words act as a form of noise in the dataset, that's why\n",
        "# their removal is important\n",
        "\n",
        "from nltk.corpus import stopwords\n",
        "nltk.download('stopwords')\n",
        "\n",
        "stop_words = stopwords.words('english') \n",
        "# This function contains the entire list of stop words present inside different languages, for our use case, we'll\n",
        "#focus on english stopwords\n",
        "\n",
        "token = nltk.word_tokenize(block)\n",
        "cleaned_token = []\n",
        "for word in token:\n",
        "    if word not in stop_words:\n",
        "        cleaned_token.append(word)\n",
        "        \n",
        "print(\"This is the unclean version-:\",'\\n',  token, '\\n')\n",
        "\n",
        "print(\"x-o-x-o-x-o-x-o-x-o-x-o-x-o-x-o-x-o-x-o-x-o-x-o-x-o-x-o-x-o-x-o-x-o-x-o-x-o-x-o-x-o-x-o-x-o-x-o-x-o-x-o-x-o-x-o-x\", '\\n')\n",
        "\n",
        "print(\"This is the cleaned version-:\",'\\n', cleaned_token)"
      ]
    },
    {
      "cell_type": "code",
      "execution_count": 4,
      "id": "ce06f4ee",
      "metadata": {
        "id": "ce06f4ee"
      },
      "outputs": [],
      "source": [
        "# A sentence may contain words that convey the same meaning but are written in different forms, taking for example \n",
        "# verbs in different forms of tenses like 'running', 'ran', 'run', 'runs' ultimately convey the same meaning but \n",
        "# are written in different forms to suit the different types of tenses, for computer analysis these types of words \n",
        "# are kept under same section as their base form (which in this case will be \"run\") and this process is known as stemming"
      ]
    },
    {
      "cell_type": "code",
      "execution_count": 5,
      "id": "9c562069",
      "metadata": {
        "colab": {
          "base_uri": "https://localhost:8080/",
          "height": 0
        },
        "id": "9c562069",
        "outputId": "e0ddae15-a07a-46e2-f637-fd82e007abf1"
      },
      "outputs": [
        {
          "output_type": "stream",
          "name": "stdout",
          "text": [
            "['rain', 'rain', 'rain', 'rain']\n"
          ]
        }
      ],
      "source": [
        "from nltk.stem import PorterStemmer\n",
        "\n",
        "stemmer = nltk.PorterStemmer()\n",
        "\n",
        "words = ['rain', 'rained', 'raining', 'rains']\n",
        "\n",
        "stemmed = [stemmer.stem(word) for word in words]\n",
        "\n",
        "print(stemmed)"
      ]
    },
    {
      "cell_type": "code",
      "execution_count": 6,
      "id": "20c93e27",
      "metadata": {
        "id": "20c93e27"
      },
      "outputs": [],
      "source": [
        "# POS Tagging also known as parts of speech tagging refers to the process of tagging the tokens that we have created"
      ]
    },
    {
      "cell_type": "code",
      "execution_count": 7,
      "id": "d9e44432",
      "metadata": {
        "colab": {
          "base_uri": "https://localhost:8080/",
          "height": 0
        },
        "id": "d9e44432",
        "outputId": "5ed0a08c-e09b-4e13-b4b2-d358416abd99"
      },
      "outputs": [
        {
          "output_type": "stream",
          "name": "stdout",
          "text": [
            "[nltk_data] Downloading package averaged_perceptron_tagger to\n",
            "[nltk_data]     /root/nltk_data...\n",
            "[nltk_data]   Unzipping taggers/averaged_perceptron_tagger.zip.\n",
            "[('CSI-DYPIEMR', 'JJ'), ('Student', 'NNP'), ('Chapter', 'NNP'), ('Computer', 'NNP'), ('Society', 'NNP'), ('India', 'NNP'), ('Dr.', 'NNP'), ('D.', 'NNP'), ('Y.', 'NNP'), ('Patil', 'NNP'), ('Pratishthan', 'NNP'), (\"'s\", 'POS'), ('Dr.', 'NNP'), ('D.', 'NNP'), ('Y.', 'NNP'), ('Patil', 'NNP'), ('Institute', 'NNP'), ('Engineering', 'NNP'), (',', ','), ('Management', 'NNP'), (',', ','), ('Research', 'NNP'), ('.', '.'), ('Computer', 'NNP'), ('Society', 'NNP'), ('India', 'NNP'), ('body', 'NN'), ('computer', 'NN'), ('professionals', 'NNS'), ('India', 'NNP'), ('.', '.'), ('It', 'PRP'), ('started', 'VBD'), ('6', 'CD'), ('March', 'NNP'), ('1965', 'CD'), ('computer', 'NN'), ('professionals', 'NNS'), ('grown', 'VBP'), ('national', 'JJ'), ('body', 'NN'), ('representing', 'VBG'), ('computer', 'NN'), ('professionals', 'NNS'), ('.', '.'), ('It', 'PRP'), ('72', 'CD'), ('chapters', 'NNS'), ('across', 'IN'), ('India', 'NNP'), (',', ','), ('511', 'CD'), ('student', 'NN'), ('branches', 'NNS'), (',', ','), ('100,000', 'CD'), ('members', 'NNS'), ('.', '.')]\n"
          ]
        }
      ],
      "source": [
        "from nltk import pos_tag \n",
        "nltk.download('averaged_perceptron_tagger')\n",
        "\n",
        "tagged = nltk.pos_tag(cleaned_token)     \n",
        "\n",
        "print(tagged)"
      ]
    },
    {
      "cell_type": "code",
      "execution_count": 8,
      "id": "053f73e0",
      "metadata": {
        "id": "053f73e0"
      },
      "outputs": [],
      "source": [
        "# Lemmatization is the process of finding the form of the related word in the dictionary. Lemmatization does not \n",
        "# simply chop off inflections. Instead, it uses lexical knowledge bases to get the correct base forms of words."
      ]
    },
    {
      "cell_type": "code",
      "execution_count": 9,
      "id": "08abc91b",
      "metadata": {
        "colab": {
          "base_uri": "https://localhost:8080/",
          "height": 0
        },
        "id": "08abc91b",
        "outputId": "36de4cf5-1067-4784-bccf-29e7bb26698b"
      },
      "outputs": [
        {
          "output_type": "stream",
          "name": "stdout",
          "text": [
            "[nltk_data] Downloading package wordnet to /root/nltk_data...\n",
            "[nltk_data]   Unzipping corpora/wordnet.zip.\n",
            "[nltk_data] Downloading package omw-1.4 to /root/nltk_data...\n",
            "[nltk_data]   Unzipping corpora/omw-1.4.zip.\n",
            "['CSI-DYPIEMR', 'Student', 'Chapter', 'Computer', 'Society', 'India', 'Dr.', 'D.', 'Y.', 'Patil', 'Pratishthan', \"'s\", 'Dr.', 'D.', 'Y.', 'Patil', 'Institute', 'Engineering', ',', 'Management', ',', 'Research', '.', 'Computer', 'Society', 'India', 'body', 'computer', 'professional', 'India', '.', 'It', 'started', '6', 'March', '1965', 'computer', 'professional', 'grown', 'national', 'body', 'representing', 'computer', 'professional', '.', 'It', '72', 'chapter', 'across', 'India', ',', '511', 'student', 'branch', ',', '100,000', 'member', '.']\n"
          ]
        }
      ],
      "source": [
        "from nltk.stem import WordNetLemmatizer \n",
        "nltk.download('wordnet')\n",
        "nltk.download('omw-1.4')\n",
        "\n",
        "lemmatizer = nltk.WordNetLemmatizer()\n",
        "\n",
        "lemmatized = [lemmatizer.lemmatize(word) for word in cleaned_token]\n",
        "\n",
        "print(lemmatized)"
      ]
    },
    {
      "cell_type": "code",
      "execution_count": 9,
      "id": "85f5e698",
      "metadata": {
        "id": "85f5e698"
      },
      "outputs": [],
      "source": [
        ""
      ]
    }
  ],
  "metadata": {
    "kernelspec": {
      "display_name": "Python 3 (ipykernel)",
      "language": "python",
      "name": "python3"
    },
    "language_info": {
      "codemirror_mode": {
        "name": "ipython",
        "version": 3
      },
      "file_extension": ".py",
      "mimetype": "text/x-python",
      "name": "python",
      "nbconvert_exporter": "python",
      "pygments_lexer": "ipython3",
      "version": "3.8.10"
    },
    "colab": {
      "name": "DSBDA_Pract_7-1.ipynb",
      "provenance": []
    }
  },
  "nbformat": 4,
  "nbformat_minor": 5
}