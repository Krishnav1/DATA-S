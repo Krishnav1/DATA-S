{
  "cells": [
    {
      "cell_type": "code",
      "execution_count": 1,
      "id": "9a233c9f",
      "metadata": {
        "id": "9a233c9f"
      },
      "outputs": [],
      "source": [
        "import pandas as pd\n",
        "import sklearn as sk\n",
        "import math "
      ]
    },
    {
      "cell_type": "code",
      "execution_count": 2,
      "id": "323cc3c7",
      "metadata": {
        "colab": {
          "base_uri": "https://localhost:8080/",
          "height": 0
        },
        "id": "323cc3c7",
        "outputId": "c24f1fac-7d00-4d2c-b6e7-32db7b3541d8"
      },
      "outputs": [
        {
          "output_type": "stream",
          "name": "stdout",
          "text": [
            "{'IT', 'organizes', 'conventions,', 'together.', 'professionals', 'aim', 'various', 'as', 'conferences,', 'The', 'Information', 'training', 'enthusiasts,', 'towards', 'an', 'mind', 'profession', 'objective,', 'skill', 'works', 'making', 'guide', 'from', 'students,', 'technical', 'lectures,', 'that', 'on', 'computer', 'of', 'good', 'in', 'collaborate', 'top', 'today.', 'to', 'fulfill', 'priority', 'time,', 'professionals.', 'a', 'sections', 'Our', 'it', 'this', 'regularly', 'and', 'amongst', 'other', 'updating', 'with', 'area', 'And', 'for', 'develop', 'come', 'teach,', 'society.', 'also', 'projects', 'all', 'each', 'at', 'future', 'students', 'backgrounds', 'among', 'CSI', 'are', 'awards.', 'is', 'Keeping', 'together', 'projects,', 'same', 'Technology', 'culture', 'regular', 'promotion', 'grow', 'choice', 'work', 'the', 'organized', 'where', 'ensures', 'To', 'interest'}\n"
          ]
        }
      ],
      "source": [
        "block_1 = \"Our aim is to develop a good work culture among students, a culture where students from various technical backgrounds come together to teach, guide and collaborate with each other on various projects and grow together.\"\n",
        "\n",
        "block_2 = \"Keeping in mind the interest of the IT professionals and computer enthusiasts, CSI works towards making the profession an area of choice amongst all sections of the society. The promotion of Information Technology as a profession is the top priority of CSI today. To fulfill this objective, the CSI regularly organizes conferences, conventions, lectures, projects, and awards. And at the same time, it also ensures that regular training and skill updating are organized for the future IT professionals.\"\n",
        "\n",
        "#split so each word have their own string\n",
        "first_block = block_1.split(\" \")\n",
        "second_block = block_2.split(\" \")\n",
        "\n",
        "#join them to remove common duplicate words\n",
        "total= set(first_block).union(set(second_block))\n",
        "\n",
        "print(total)"
      ]
    },
    {
      "cell_type": "code",
      "execution_count": 3,
      "id": "1486fcc1",
      "metadata": {
        "id": "1486fcc1"
      },
      "outputs": [],
      "source": [
        "wordDictA = dict.fromkeys(total, 0) \n",
        "wordDictB = dict.fromkeys(total, 0)\n",
        "\n",
        "for word in first_block:\n",
        "    wordDictA[word]+=1\n",
        "    \n",
        "for word in second_block:\n",
        "    wordDictB[word]+=1"
      ]
    },
    {
      "cell_type": "code",
      "execution_count": 4,
      "id": "506f92e6",
      "metadata": {
        "colab": {
          "base_uri": "https://localhost:8080/",
          "height": 205
        },
        "id": "506f92e6",
        "outputId": "dc644430-84c3-4ede-d0d6-317a6460a86a"
      },
      "outputs": [
        {
          "output_type": "execute_result",
          "data": {
            "text/plain": [
              "   IT  organizes  conventions,  together.  professionals  aim  various  as  \\\n",
              "0   0          0             0          1              0    1        2   0   \n",
              "1   2          1             1          0              1    0        0   1   \n",
              "\n",
              "   conferences,  The  ...  promotion  grow  choice  work  the  organized  \\\n",
              "0             0    0  ...          0     1       0     1    0          0   \n",
              "1             1    1  ...          1     0       1     0    8          1   \n",
              "\n",
              "   where  ensures  To  interest  \n",
              "0      1        0   0         0  \n",
              "1      0        1   1         1  \n",
              "\n",
              "[2 rows x 88 columns]"
            ],
            "text/html": [
              "\n",
              "  <div id=\"df-5fbd560b-1220-4ff1-be75-890d7cc4b2a7\">\n",
              "    <div class=\"colab-df-container\">\n",
              "      <div>\n",
              "<style scoped>\n",
              "    .dataframe tbody tr th:only-of-type {\n",
              "        vertical-align: middle;\n",
              "    }\n",
              "\n",
              "    .dataframe tbody tr th {\n",
              "        vertical-align: top;\n",
              "    }\n",
              "\n",
              "    .dataframe thead th {\n",
              "        text-align: right;\n",
              "    }\n",
              "</style>\n",
              "<table border=\"1\" class=\"dataframe\">\n",
              "  <thead>\n",
              "    <tr style=\"text-align: right;\">\n",
              "      <th></th>\n",
              "      <th>IT</th>\n",
              "      <th>organizes</th>\n",
              "      <th>conventions,</th>\n",
              "      <th>together.</th>\n",
              "      <th>professionals</th>\n",
              "      <th>aim</th>\n",
              "      <th>various</th>\n",
              "      <th>as</th>\n",
              "      <th>conferences,</th>\n",
              "      <th>The</th>\n",
              "      <th>...</th>\n",
              "      <th>promotion</th>\n",
              "      <th>grow</th>\n",
              "      <th>choice</th>\n",
              "      <th>work</th>\n",
              "      <th>the</th>\n",
              "      <th>organized</th>\n",
              "      <th>where</th>\n",
              "      <th>ensures</th>\n",
              "      <th>To</th>\n",
              "      <th>interest</th>\n",
              "    </tr>\n",
              "  </thead>\n",
              "  <tbody>\n",
              "    <tr>\n",
              "      <th>0</th>\n",
              "      <td>0</td>\n",
              "      <td>0</td>\n",
              "      <td>0</td>\n",
              "      <td>1</td>\n",
              "      <td>0</td>\n",
              "      <td>1</td>\n",
              "      <td>2</td>\n",
              "      <td>0</td>\n",
              "      <td>0</td>\n",
              "      <td>0</td>\n",
              "      <td>...</td>\n",
              "      <td>0</td>\n",
              "      <td>1</td>\n",
              "      <td>0</td>\n",
              "      <td>1</td>\n",
              "      <td>0</td>\n",
              "      <td>0</td>\n",
              "      <td>1</td>\n",
              "      <td>0</td>\n",
              "      <td>0</td>\n",
              "      <td>0</td>\n",
              "    </tr>\n",
              "    <tr>\n",
              "      <th>1</th>\n",
              "      <td>2</td>\n",
              "      <td>1</td>\n",
              "      <td>1</td>\n",
              "      <td>0</td>\n",
              "      <td>1</td>\n",
              "      <td>0</td>\n",
              "      <td>0</td>\n",
              "      <td>1</td>\n",
              "      <td>1</td>\n",
              "      <td>1</td>\n",
              "      <td>...</td>\n",
              "      <td>1</td>\n",
              "      <td>0</td>\n",
              "      <td>1</td>\n",
              "      <td>0</td>\n",
              "      <td>8</td>\n",
              "      <td>1</td>\n",
              "      <td>0</td>\n",
              "      <td>1</td>\n",
              "      <td>1</td>\n",
              "      <td>1</td>\n",
              "    </tr>\n",
              "  </tbody>\n",
              "</table>\n",
              "<p>2 rows × 88 columns</p>\n",
              "</div>\n",
              "      <button class=\"colab-df-convert\" onclick=\"convertToInteractive('df-5fbd560b-1220-4ff1-be75-890d7cc4b2a7')\"\n",
              "              title=\"Convert this dataframe to an interactive table.\"\n",
              "              style=\"display:none;\">\n",
              "        \n",
              "  <svg xmlns=\"http://www.w3.org/2000/svg\" height=\"24px\"viewBox=\"0 0 24 24\"\n",
              "       width=\"24px\">\n",
              "    <path d=\"M0 0h24v24H0V0z\" fill=\"none\"/>\n",
              "    <path d=\"M18.56 5.44l.94 2.06.94-2.06 2.06-.94-2.06-.94-.94-2.06-.94 2.06-2.06.94zm-11 1L8.5 8.5l.94-2.06 2.06-.94-2.06-.94L8.5 2.5l-.94 2.06-2.06.94zm10 10l.94 2.06.94-2.06 2.06-.94-2.06-.94-.94-2.06-.94 2.06-2.06.94z\"/><path d=\"M17.41 7.96l-1.37-1.37c-.4-.4-.92-.59-1.43-.59-.52 0-1.04.2-1.43.59L10.3 9.45l-7.72 7.72c-.78.78-.78 2.05 0 2.83L4 21.41c.39.39.9.59 1.41.59.51 0 1.02-.2 1.41-.59l7.78-7.78 2.81-2.81c.8-.78.8-2.07 0-2.86zM5.41 20L4 18.59l7.72-7.72 1.47 1.35L5.41 20z\"/>\n",
              "  </svg>\n",
              "      </button>\n",
              "      \n",
              "  <style>\n",
              "    .colab-df-container {\n",
              "      display:flex;\n",
              "      flex-wrap:wrap;\n",
              "      gap: 12px;\n",
              "    }\n",
              "\n",
              "    .colab-df-convert {\n",
              "      background-color: #E8F0FE;\n",
              "      border: none;\n",
              "      border-radius: 50%;\n",
              "      cursor: pointer;\n",
              "      display: none;\n",
              "      fill: #1967D2;\n",
              "      height: 32px;\n",
              "      padding: 0 0 0 0;\n",
              "      width: 32px;\n",
              "    }\n",
              "\n",
              "    .colab-df-convert:hover {\n",
              "      background-color: #E2EBFA;\n",
              "      box-shadow: 0px 1px 2px rgba(60, 64, 67, 0.3), 0px 1px 3px 1px rgba(60, 64, 67, 0.15);\n",
              "      fill: #174EA6;\n",
              "    }\n",
              "\n",
              "    [theme=dark] .colab-df-convert {\n",
              "      background-color: #3B4455;\n",
              "      fill: #D2E3FC;\n",
              "    }\n",
              "\n",
              "    [theme=dark] .colab-df-convert:hover {\n",
              "      background-color: #434B5C;\n",
              "      box-shadow: 0px 1px 3px 1px rgba(0, 0, 0, 0.15);\n",
              "      filter: drop-shadow(0px 1px 2px rgba(0, 0, 0, 0.3));\n",
              "      fill: #FFFFFF;\n",
              "    }\n",
              "  </style>\n",
              "\n",
              "      <script>\n",
              "        const buttonEl =\n",
              "          document.querySelector('#df-5fbd560b-1220-4ff1-be75-890d7cc4b2a7 button.colab-df-convert');\n",
              "        buttonEl.style.display =\n",
              "          google.colab.kernel.accessAllowed ? 'block' : 'none';\n",
              "\n",
              "        async function convertToInteractive(key) {\n",
              "          const element = document.querySelector('#df-5fbd560b-1220-4ff1-be75-890d7cc4b2a7');\n",
              "          const dataTable =\n",
              "            await google.colab.kernel.invokeFunction('convertToInteractive',\n",
              "                                                     [key], {});\n",
              "          if (!dataTable) return;\n",
              "\n",
              "          const docLinkHtml = 'Like what you see? Visit the ' +\n",
              "            '<a target=\"_blank\" href=https://colab.research.google.com/notebooks/data_table.ipynb>data table notebook</a>'\n",
              "            + ' to learn more about interactive tables.';\n",
              "          element.innerHTML = '';\n",
              "          dataTable['output_type'] = 'display_data';\n",
              "          await google.colab.output.renderOutput(dataTable, element);\n",
              "          const docLink = document.createElement('div');\n",
              "          docLink.innerHTML = docLinkHtml;\n",
              "          element.appendChild(docLink);\n",
              "        }\n",
              "      </script>\n",
              "    </div>\n",
              "  </div>\n",
              "  "
            ]
          },
          "metadata": {},
          "execution_count": 4
        }
      ],
      "source": [
        "pd.DataFrame([wordDictA, wordDictB])"
      ]
    },
    {
      "cell_type": "code",
      "execution_count": 5,
      "id": "88796bee",
      "metadata": {
        "id": "88796bee"
      },
      "outputs": [],
      "source": [
        "def computeTF(wordDict, doc):\n",
        "    tfDict = {}\n",
        "    corpusCount = len(doc)\n",
        "    for word, count in wordDict.items():tfDict[word] = count/float(corpusCount)\n",
        "    return(tfDict)\n",
        "\n",
        "#running our sentences through the tf function:\n",
        "\n",
        "tfFirst = computeTF(wordDictA, first_block)\n",
        "\n",
        "tfSecond = computeTF(wordDictB, second_block)\n",
        "\n",
        "#Converting to dataframe for visualization\n",
        "\n",
        "tf = pd.DataFrame([tfFirst, tfSecond])"
      ]
    },
    {
      "cell_type": "code",
      "execution_count": 6,
      "id": "2a78a67b",
      "metadata": {
        "colab": {
          "base_uri": "https://localhost:8080/",
          "height": 0
        },
        "id": "2a78a67b",
        "outputId": "1cd65c9a-cc8b-4bc1-d082-70ed8b50bdc6"
      },
      "outputs": [
        {
          "output_type": "stream",
          "name": "stdout",
          "text": [
            "[nltk_data] Downloading package stopwords to /root/nltk_data...\n",
            "[nltk_data]   Unzipping corpora/stopwords.zip.\n",
            "['IT', 'organizes', 'conventions,', 'together.', 'professionals', 'aim', 'various', 'conferences,', 'The', 'Information', 'training', 'enthusiasts,', 'towards', 'mind', 'profession', 'objective,', 'skill', 'works', 'making', 'guide', 'students,', 'technical', 'lectures,', 'computer', 'good', 'collaborate', 'top', 'today.', 'fulfill', 'priority', 'time,', 'professionals.', 'sections', 'Our', 'regularly', 'amongst', 'updating', 'area', 'And', 'develop', 'come', 'teach,', 'society.', 'also', 'projects', 'future', 'students', 'backgrounds', 'among', 'CSI', 'awards.', 'Keeping', 'together', 'projects,', 'Technology', 'culture', 'regular', 'promotion', 'grow', 'choice', 'work', 'organized', 'ensures', 'To', 'interest']\n"
          ]
        }
      ],
      "source": [
        "# Now we'll remove stopwords from the list\n",
        "\n",
        "import nltk\n",
        "nltk.download('stopwords')\n",
        "from nltk.corpus import stopwords\n",
        "\n",
        "stop_words = set(stopwords.words('english'))\n",
        "filtered_sentence = [w for w in wordDictA if not w in stop_words]\n",
        "\n",
        "print(filtered_sentence)"
      ]
    },
    {
      "cell_type": "code",
      "execution_count": 7,
      "id": "4bf9b138",
      "metadata": {
        "id": "4bf9b138"
      },
      "outputs": [],
      "source": [
        "# Now moving onto the IDF Part\n",
        "\n",
        "def computeIDF(docList):\n",
        "    idfDict = {}\n",
        "    N = len(docList)   \n",
        "    idfDict = dict.fromkeys(docList[0].keys(), 0)\n",
        "    for word, val in idfDict.items(): idfDict[word] = math.log10(N / (float(val) + 1))     \n",
        "    return(idfDict)\n",
        "\n",
        "#inputing our sentences in the log file\n",
        "idfs = computeIDF([wordDictA, wordDictB])"
      ]
    },
    {
      "cell_type": "code",
      "execution_count": 8,
      "id": "961fa4c8",
      "metadata": {
        "colab": {
          "base_uri": "https://localhost:8080/",
          "height": 0
        },
        "id": "961fa4c8",
        "outputId": "775c19e7-2499-4ed6-c926-d58da2df628d"
      },
      "outputs": [
        {
          "output_type": "stream",
          "name": "stdout",
          "text": [
            "         IT  organizes  conventions,  together.  professionals       aim  \\\n",
            "0  0.000000   0.000000      0.000000   0.008601       0.000000  0.008601   \n",
            "1  0.007719   0.003859      0.003859   0.000000       0.003859  0.000000   \n",
            "\n",
            "    various        as  conferences,       The  ...  promotion      grow  \\\n",
            "0  0.017202  0.000000      0.000000  0.000000  ...   0.000000  0.008601   \n",
            "1  0.000000  0.003859      0.003859  0.003859  ...   0.003859  0.000000   \n",
            "\n",
            "     choice      work       the  organized     where   ensures        To  \\\n",
            "0  0.000000  0.008601  0.000000   0.000000  0.008601  0.000000  0.000000   \n",
            "1  0.003859  0.000000  0.030875   0.003859  0.000000  0.003859  0.003859   \n",
            "\n",
            "   interest  \n",
            "0  0.000000  \n",
            "1  0.003859  \n",
            "\n",
            "[2 rows x 88 columns]\n"
          ]
        }
      ],
      "source": [
        "# Now we'll implement the IDF formula\n",
        "\n",
        "def computeTFIDF(tfBow, idfs):\n",
        "    tfidf = {}\n",
        "    for word, val in tfBow.items(): tfidf[word] = val*idfs[word]\n",
        "    return(tfidf)\n",
        "\n",
        "#running our two sentences through the IDF:\n",
        "idfFirst = computeTFIDF(tfFirst, idfs)\n",
        "idfSecond = computeTFIDF(tfSecond, idfs)\n",
        "\n",
        "#putting it in a dataframe\n",
        "idf= pd.DataFrame([idfFirst, idfSecond])\n",
        "\n",
        "print(idf)"
      ]
    },
    {
      "cell_type": "code",
      "execution_count": 9,
      "id": "0741a502",
      "metadata": {
        "id": "0741a502"
      },
      "outputs": [],
      "source": [
        "# Above way was the generic/formulatic way of implementing TFIDF, This process can be made way more simpler by using\n",
        "# sklearn library, example given below\n",
        "\n",
        "from sklearn.feature_extraction.text import TfidfVectorizer\n",
        "\n",
        "#Make sure all words are in lowercase\n",
        "\n",
        "version_1 = \"Developing a competitive culture where the students polish technical and professional attributes, gain experience and learn new skills while upgrading the already present skillset. For those fledglings who have a zeal to build a strong profile and are hunting for their Ikigai, CSI provides ample opportunities for those individuals too.\"\n",
        "version_2 = \"Personalized career guidance, Regular Logic and aptitude building activities, Industrial level project collaboration, Building a network with active collaborations across the globe, Periodic member exclusive conferences and seminars, Created a community for sharing skills and knowledge\"\n",
        "\n",
        "#calling the TfidfVectorizer\n",
        "vectorize= TfidfVectorizer()\n",
        "\n",
        "#fitting the model and passing our sentences right away:\n",
        "response= vectorize.fit_transform([version_1.lower(), version_2.lower()])"
      ]
    },
    {
      "cell_type": "code",
      "execution_count": 10,
      "id": "0c702233",
      "metadata": {
        "colab": {
          "base_uri": "https://localhost:8080/",
          "height": 0
        },
        "id": "0c702233",
        "outputId": "6267141e-38e0-4928-a09c-8f397fbd0550"
      },
      "outputs": [
        {
          "output_type": "stream",
          "name": "stdout",
          "text": [
            "  (0, 61)\t0.13915271943780658\n",
            "  (0, 31)\t0.13915271943780658\n",
            "  (0, 40)\t0.13915271943780658\n",
            "  (0, 4)\t0.13915271943780658\n",
            "  (0, 48)\t0.13915271943780658\n",
            "  (0, 18)\t0.13915271943780658\n",
            "  (0, 30)\t0.13915271943780658\n",
            "  (0, 58)\t0.13915271943780658\n",
            "  (0, 29)\t0.13915271943780658\n",
            "  (0, 7)\t0.13915271943780658\n",
            "  (0, 46)\t0.13915271943780658\n",
            "  (0, 54)\t0.13915271943780658\n",
            "  (0, 9)\t0.13915271943780658\n",
            "  (0, 60)\t0.13915271943780658\n",
            "  (0, 67)\t0.13915271943780658\n",
            "  (0, 28)\t0.13915271943780658\n",
            "  (0, 65)\t0.13915271943780658\n",
            "  (0, 23)\t0.13915271943780658\n",
            "  (0, 59)\t0.27830543887561315\n",
            "  (0, 24)\t0.2970249178760062\n",
            "  (0, 53)\t0.13915271943780658\n",
            "  (0, 44)\t0.13915271943780658\n",
            "  (0, 3)\t0.13915271943780658\n",
            "  (0, 62)\t0.13915271943780658\n",
            "  (0, 64)\t0.13915271943780658\n",
            "  :\t:\n",
            "  (1, 21)\t0.16649349332910351\n",
            "  (1, 37)\t0.16649349332910351\n",
            "  (1, 41)\t0.16649349332910351\n",
            "  (1, 26)\t0.16649349332910351\n",
            "  (1, 0)\t0.16649349332910351\n",
            "  (1, 13)\t0.16649349332910351\n",
            "  (1, 1)\t0.16649349332910351\n",
            "  (1, 66)\t0.16649349332910351\n",
            "  (1, 38)\t0.16649349332910351\n",
            "  (1, 12)\t0.16649349332910351\n",
            "  (1, 47)\t0.16649349332910351\n",
            "  (1, 35)\t0.16649349332910351\n",
            "  (1, 32)\t0.16649349332910351\n",
            "  (1, 2)\t0.16649349332910351\n",
            "  (1, 10)\t0.33298698665820703\n",
            "  (1, 6)\t0.16649349332910351\n",
            "  (1, 36)\t0.16649349332910351\n",
            "  (1, 49)\t0.16649349332910351\n",
            "  (1, 27)\t0.16649349332910351\n",
            "  (1, 11)\t0.16649349332910351\n",
            "  (1, 42)\t0.16649349332910351\n",
            "  (1, 24)\t0.11846149176425531\n",
            "  (1, 52)\t0.11846149176425531\n",
            "  (1, 5)\t0.35538447529276596\n",
            "  (1, 57)\t0.11846149176425531\n"
          ]
        }
      ],
      "source": [
        "print(response)"
      ]
    }
  ],
  "metadata": {
    "kernelspec": {
      "display_name": "Python 3 (ipykernel)",
      "language": "python",
      "name": "python3"
    },
    "language_info": {
      "codemirror_mode": {
        "name": "ipython",
        "version": 3
      },
      "file_extension": ".py",
      "mimetype": "text/x-python",
      "name": "python",
      "nbconvert_exporter": "python",
      "pygments_lexer": "ipython3",
      "version": "3.8.10"
    },
    "colab": {
      "name": "DSBDA Pract7_2.ipynb",
      "provenance": []
    }
  },
  "nbformat": 4,
  "nbformat_minor": 5
}